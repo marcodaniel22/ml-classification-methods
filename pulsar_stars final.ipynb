{
 "cells": [
  {
   "cell_type": "code",
   "execution_count": 1,
   "metadata": {},
   "outputs": [],
   "source": [
    "import pandas as pd\n",
    "import numpy as np\n",
    "import matplotlib.pyplot as plt\n",
    "\n",
    "from sklearn.feature_selection import f_classif\n",
    "from sklearn.model_selection import train_test_split\n",
    "from sklearn.model_selection import GridSearchCV\n",
    "from sklearn.pipeline import Pipeline\n",
    "from sklearn.model_selection import cross_val_score\n",
    "from sklearn.preprocessing import StandardScaler\n",
    "from sklearn.feature_selection import SelectKBest\n",
    "from sklearn.decomposition import PCA\n",
    "from sklearn.metrics import SCORERS\n",
    "\n",
    "from sklearn.linear_model import LogisticRegression\n",
    "from sklearn.neighbors import KNeighborsClassifier\n",
    "from sklearn.naive_bayes import GaussianNB\n",
    "from sklearn.ensemble import RandomForestClassifier\n",
    "from sklearn.ensemble import ExtraTreesClassifier\n",
    "from sklearn.tree import DecisionTreeClassifier\n",
    "\n",
    "import warnings\n",
    "warnings.filterwarnings(\"ignore\")"
   ]
  },
  {
   "cell_type": "code",
   "execution_count": 2,
   "metadata": {},
   "outputs": [
    {
     "data": {
      "text/html": [
       "<div>\n",
       "<style scoped>\n",
       "    .dataframe tbody tr th:only-of-type {\n",
       "        vertical-align: middle;\n",
       "    }\n",
       "\n",
       "    .dataframe tbody tr th {\n",
       "        vertical-align: top;\n",
       "    }\n",
       "\n",
       "    .dataframe thead th {\n",
       "        text-align: right;\n",
       "    }\n",
       "</style>\n",
       "<table border=\"1\" class=\"dataframe\">\n",
       "  <thead>\n",
       "    <tr style=\"text-align: right;\">\n",
       "      <th></th>\n",
       "      <th>Mean of the integrated profile</th>\n",
       "      <th>Standard deviation of the integrated profile</th>\n",
       "      <th>Excess kurtosis of the integrated profile</th>\n",
       "      <th>Skewness of the integrated profile</th>\n",
       "      <th>Mean of the DM-SNR curve</th>\n",
       "      <th>Standard deviation of the DM-SNR curve</th>\n",
       "      <th>Excess kurtosis of the DM-SNR curve</th>\n",
       "      <th>Skewness of the DM-SNR curve</th>\n",
       "      <th>target_class</th>\n",
       "    </tr>\n",
       "  </thead>\n",
       "  <tbody>\n",
       "    <tr>\n",
       "      <th>count</th>\n",
       "      <td>17898.000000</td>\n",
       "      <td>17898.000000</td>\n",
       "      <td>17898.000000</td>\n",
       "      <td>17898.000000</td>\n",
       "      <td>17898.000000</td>\n",
       "      <td>17898.000000</td>\n",
       "      <td>17898.000000</td>\n",
       "      <td>17898.000000</td>\n",
       "      <td>17898.000000</td>\n",
       "    </tr>\n",
       "    <tr>\n",
       "      <th>mean</th>\n",
       "      <td>111.079968</td>\n",
       "      <td>46.549532</td>\n",
       "      <td>0.477857</td>\n",
       "      <td>1.770279</td>\n",
       "      <td>12.614400</td>\n",
       "      <td>26.326515</td>\n",
       "      <td>8.303556</td>\n",
       "      <td>104.857709</td>\n",
       "      <td>0.091574</td>\n",
       "    </tr>\n",
       "    <tr>\n",
       "      <th>std</th>\n",
       "      <td>25.652935</td>\n",
       "      <td>6.843189</td>\n",
       "      <td>1.064040</td>\n",
       "      <td>6.167913</td>\n",
       "      <td>29.472897</td>\n",
       "      <td>19.470572</td>\n",
       "      <td>4.506092</td>\n",
       "      <td>106.514540</td>\n",
       "      <td>0.288432</td>\n",
       "    </tr>\n",
       "    <tr>\n",
       "      <th>min</th>\n",
       "      <td>5.812500</td>\n",
       "      <td>24.772042</td>\n",
       "      <td>-1.876011</td>\n",
       "      <td>-1.791886</td>\n",
       "      <td>0.213211</td>\n",
       "      <td>7.370432</td>\n",
       "      <td>-3.139270</td>\n",
       "      <td>-1.976976</td>\n",
       "      <td>0.000000</td>\n",
       "    </tr>\n",
       "    <tr>\n",
       "      <th>25%</th>\n",
       "      <td>100.929688</td>\n",
       "      <td>42.376018</td>\n",
       "      <td>0.027098</td>\n",
       "      <td>-0.188572</td>\n",
       "      <td>1.923077</td>\n",
       "      <td>14.437332</td>\n",
       "      <td>5.781506</td>\n",
       "      <td>34.960504</td>\n",
       "      <td>0.000000</td>\n",
       "    </tr>\n",
       "    <tr>\n",
       "      <th>50%</th>\n",
       "      <td>115.078125</td>\n",
       "      <td>46.947479</td>\n",
       "      <td>0.223240</td>\n",
       "      <td>0.198710</td>\n",
       "      <td>2.801839</td>\n",
       "      <td>18.461316</td>\n",
       "      <td>8.433515</td>\n",
       "      <td>83.064556</td>\n",
       "      <td>0.000000</td>\n",
       "    </tr>\n",
       "    <tr>\n",
       "      <th>75%</th>\n",
       "      <td>127.085938</td>\n",
       "      <td>51.023202</td>\n",
       "      <td>0.473325</td>\n",
       "      <td>0.927783</td>\n",
       "      <td>5.464256</td>\n",
       "      <td>28.428104</td>\n",
       "      <td>10.702959</td>\n",
       "      <td>139.309331</td>\n",
       "      <td>0.000000</td>\n",
       "    </tr>\n",
       "    <tr>\n",
       "      <th>max</th>\n",
       "      <td>192.617188</td>\n",
       "      <td>98.778911</td>\n",
       "      <td>8.069522</td>\n",
       "      <td>68.101622</td>\n",
       "      <td>223.392140</td>\n",
       "      <td>110.642211</td>\n",
       "      <td>34.539844</td>\n",
       "      <td>1191.000837</td>\n",
       "      <td>1.000000</td>\n",
       "    </tr>\n",
       "  </tbody>\n",
       "</table>\n",
       "</div>"
      ],
      "text/plain": [
       "        Mean of the integrated profile  \\\n",
       "count                     17898.000000   \n",
       "mean                        111.079968   \n",
       "std                          25.652935   \n",
       "min                           5.812500   \n",
       "25%                         100.929688   \n",
       "50%                         115.078125   \n",
       "75%                         127.085938   \n",
       "max                         192.617188   \n",
       "\n",
       "        Standard deviation of the integrated profile  \\\n",
       "count                                   17898.000000   \n",
       "mean                                       46.549532   \n",
       "std                                         6.843189   \n",
       "min                                        24.772042   \n",
       "25%                                        42.376018   \n",
       "50%                                        46.947479   \n",
       "75%                                        51.023202   \n",
       "max                                        98.778911   \n",
       "\n",
       "        Excess kurtosis of the integrated profile  \\\n",
       "count                                17898.000000   \n",
       "mean                                     0.477857   \n",
       "std                                      1.064040   \n",
       "min                                     -1.876011   \n",
       "25%                                      0.027098   \n",
       "50%                                      0.223240   \n",
       "75%                                      0.473325   \n",
       "max                                      8.069522   \n",
       "\n",
       "        Skewness of the integrated profile   Mean of the DM-SNR curve  \\\n",
       "count                         17898.000000               17898.000000   \n",
       "mean                              1.770279                  12.614400   \n",
       "std                               6.167913                  29.472897   \n",
       "min                              -1.791886                   0.213211   \n",
       "25%                              -0.188572                   1.923077   \n",
       "50%                               0.198710                   2.801839   \n",
       "75%                               0.927783                   5.464256   \n",
       "max                              68.101622                 223.392140   \n",
       "\n",
       "        Standard deviation of the DM-SNR curve  \\\n",
       "count                             17898.000000   \n",
       "mean                                 26.326515   \n",
       "std                                  19.470572   \n",
       "min                                   7.370432   \n",
       "25%                                  14.437332   \n",
       "50%                                  18.461316   \n",
       "75%                                  28.428104   \n",
       "max                                 110.642211   \n",
       "\n",
       "        Excess kurtosis of the DM-SNR curve   Skewness of the DM-SNR curve  \\\n",
       "count                          17898.000000                   17898.000000   \n",
       "mean                               8.303556                     104.857709   \n",
       "std                                4.506092                     106.514540   \n",
       "min                               -3.139270                      -1.976976   \n",
       "25%                                5.781506                      34.960504   \n",
       "50%                                8.433515                      83.064556   \n",
       "75%                               10.702959                     139.309331   \n",
       "max                               34.539844                    1191.000837   \n",
       "\n",
       "       target_class  \n",
       "count  17898.000000  \n",
       "mean       0.091574  \n",
       "std        0.288432  \n",
       "min        0.000000  \n",
       "25%        0.000000  \n",
       "50%        0.000000  \n",
       "75%        0.000000  \n",
       "max        1.000000  "
      ]
     },
     "execution_count": 2,
     "metadata": {},
     "output_type": "execute_result"
    }
   ],
   "source": [
    "data = pd.read_csv(\"pulsar_stars.csv\")\n",
    "df = pd.DataFrame(data)\n",
    "df.describe()"
   ]
  },
  {
   "cell_type": "code",
   "execution_count": 12,
   "metadata": {},
   "outputs": [
    {
     "name": "stdout",
     "output_type": "stream",
     "text": [
      "Target_0: 90.8426%\n",
      "Target_1: 9.1574%\n"
     ]
    }
   ],
   "source": [
    "print(\"Target_0: %.4f%%\" % (len(df[df[\"target_class\"]==0]) / len(df) * 100))\n",
    "print(\"Target_1: %.4f%%\" % (len(df[df[\"target_class\"]==1]) / len(df) * 100))"
   ]
  },
  {
   "cell_type": "code",
   "execution_count": 3,
   "metadata": {},
   "outputs": [],
   "source": [
    "X = df.drop([\"target_class\"], axis=1)\n",
    "y = df[\"target_class\"]"
   ]
  },
  {
   "cell_type": "code",
   "execution_count": 4,
   "metadata": {},
   "outputs": [
    {
     "data": {
      "image/png": "[encoded data removed]",
      "text/plain": [
       "<Figure size 720x576 with 1 Axes>"
      ]
     },
     "metadata": {
      "needs_background": "light"
     },
     "output_type": "display_data"
    }
   ],
   "source": [
    "pca = PCA(n_components=2)\n",
    "X_r = pca.fit_transform(X)\n",
    "\n",
    "colors = ['red', 'blue']\n",
    "plt.figure(figsize=(10,8))\n",
    "plt.scatter(X_r[y == 0, 0], X_r[y == 0, 1], color=colors[0], alpha=.8, label=\"Positivo\")\n",
    "plt.scatter(X_r[y == 1, 0], X_r[y == 1, 1], color=colors[1], alpha=.8, label=\"Negativo\")\n",
    "plt.legend(loc=\"best\")\n",
    "plt.title('PCA')\n",
    "plt.show()"
   ]
  },
  {
   "cell_type": "code",
   "execution_count": 5,
   "metadata": {},
   "outputs": [],
   "source": [
    "scaler = StandardScaler()\n",
    "scaler.fit(X)\n",
    "X_s = scaler.transform(X)"
   ]
  },
  {
   "cell_type": "code",
   "execution_count": 6,
   "metadata": {},
   "outputs": [
    {
     "data": {
      "image/png": "[encoded data removed]",
      "text/plain": [
       "<Figure size 720x576 with 1 Axes>"
      ]
     },
     "metadata": {
      "needs_background": "light"
     },
     "output_type": "display_data"
    }
   ],
   "source": [
    "pca = PCA(n_components=2)\n",
    "X_r = pca.fit_transform(X_s)\n",
    "\n",
    "colors = ['red', 'blue']\n",
    "plt.figure(figsize=(10,8))\n",
    "plt.scatter(X_s[y == 0, 0], X_s[y == 0, 1], color=colors[0], alpha=.8, label=\"Positivo\")\n",
    "plt.scatter(X_s[y == 1, 0], X_s[y == 1, 1], color=colors[1], alpha=.8, label=\"Negativo\")\n",
    "plt.title('PCA')\n",
    "plt.legend()\n",
    "plt.show()"
   ]
  },
  {
   "cell_type": "markdown",
   "metadata": {},
   "source": [
    "##### GridSearchCV + Knn + SelectKBest"
   ]
  },
  {
   "cell_type": "code",
   "execution_count": 11,
   "metadata": {},
   "outputs": [
    {
     "name": "stdout",
     "output_type": "stream",
     "text": [
      "{'clf__n_neighbors': 7, 'kbest__k': 5}\n"
     ]
    }
   ],
   "source": [
    "X_train, X_test, y_train, y_test = train_test_split(X_s, y, test_size=0.33, random_state=42, stratify=y)\n",
    "pipeline = Pipeline([('scaler', StandardScaler()), ('kbest', SelectKBest(f_classif)), ('clf', KNeighborsClassifier(weights=\"distance\"))])\n",
    "parameters = {\n",
    "    'kbest__k': np.asarray(range(1, X_s.shape[1] + 1)),\n",
    "    'clf__n_neighbors': np.asarray(range(1, X_s.shape[1] + 1))\n",
    "}\n",
    "clf = GridSearchCV(pipeline, parameters, cv=3, iid=False, scoring=\"f1\")\n",
    "clf.fit(X_train, y_train)\n",
    "print(clf.best_params_ )"
   ]
  },
  {
   "cell_type": "code",
   "execution_count": 31,
   "metadata": {},
   "outputs": [
    {
     "name": "stdout",
     "output_type": "stream",
     "text": [
      "f-score: 0.8390 (+/- 0.0096) [Não normalizado]\n",
      "f-score: 0.8719 (+/- 0.0114) [Normalizado]\n"
     ]
    }
   ],
   "source": [
    "clf = Pipeline([('kbest', SelectKBest(f_classif, k=5)), ('clf', KNeighborsClassifier(n_neighbors=7, weights=\"distance\"))])\n",
    "scores = cross_val_score(clf, X, y, cv=5, scoring=\"f1\")\n",
    "print(\"f-score: %0.4f (+/- %0.4f) [Não normalizado]\" % (scores.mean(), scores.std()))\n",
    "\n",
    "clf = Pipeline([('scaler', StandardScaler()), ('kbest', SelectKBest(f_classif, k=5)), ('clf', KNeighborsClassifier(n_neighbors=7, weights=\"distance\"))])\n",
    "scores = cross_val_score(clf, X, y, cv=5, scoring=\"f1\")\n",
    "print(\"f-score: %0.4f (+/- %0.4f) [Normalizado]\" % (scores.mean(), scores.std()))"
   ]
  },
  {
   "cell_type": "markdown",
   "metadata": {},
   "source": [
    "##### GridSearchCV + Knn + PCA"
   ]
  },
  {
   "cell_type": "code",
   "execution_count": 24,
   "metadata": {},
   "outputs": [
    {
     "name": "stdout",
     "output_type": "stream",
     "text": [
      "{'clf__n_neighbors': 5, 'pca__n_components': 8}\n"
     ]
    }
   ],
   "source": [
    "X_train, X_test, y_train, y_test = train_test_split(X_s, y, test_size=0.33, random_state=42, stratify=y)\n",
    "pipeline = Pipeline([('scaler', StandardScaler()), ('pca', PCA(whiten=True)), ('clf', KNeighborsClassifier(weights=\"distance\"))])\n",
    "parameters = {\n",
    "    'pca__n_components': np.asarray(range(1, X_s.shape[1] + 1)),\n",
    "    'clf__n_neighbors': np.asarray(range(1, X_s.shape[1] + 1))\n",
    "}\n",
    "clf = GridSearchCV(pipeline, parameters, cv=3, iid=False, scoring=\"f1\")\n",
    "clf.fit(X_train, y_train)\n",
    "print(clf.best_params_)"
   ]
  },
  {
   "cell_type": "code",
   "execution_count": 27,
   "metadata": {},
   "outputs": [
    {
     "name": "stdout",
     "output_type": "stream",
     "text": [
      "f-score: 0.8770 (+/- 0.02) [Não normalizado]\n",
      "f-score: 0.8770 (+/- 0.02) [Normalizado]\n"
     ]
    }
   ],
   "source": [
    "clf = Pipeline([('pca', PCA(n_components=8, whiten=True)), ('clf', KNeighborsClassifier(n_neighbors=5, weights=\"distance\"))])\n",
    "scores = cross_val_score(clf, X, y, cv=5, scoring=\"f1\")\n",
    "print(\"f-score: %0.4f (+/- %0.4f) [Não normalizado]\" % (scores.mean(), scores.std()))\n",
    "\n",
    "clf = Pipeline([('scaler', StandardScaler()), ('pca', PCA(n_components=8, whiten=True)), ('clf', KNeighborsClassifier(n_neighbors=5, weights=\"distance\"))])\n",
    "scores = cross_val_score(clf, X, y, cv=5, scoring=\"f1\")\n",
    "print(\"f-score: %0.4f (+/- %0.4f) [Normalizado]\" % (scores.mean(), scores.std()))"
   ]
  },
  {
   "cell_type": "markdown",
   "metadata": {},
   "source": [
    "##### GridSearchCV + LogisticRegression + SelectKBest"
   ]
  },
  {
   "cell_type": "code",
   "execution_count": 30,
   "metadata": {},
   "outputs": [
    {
     "name": "stdout",
     "output_type": "stream",
     "text": [
      "{'kbest__k': 5, 'lr__max_iter': 10}\n"
     ]
    }
   ],
   "source": [
    "X_train, X_test, y_train, y_test = train_test_split(X_s, y, test_size=0.33, random_state=42, stratify=y)\n",
    "lr = LogisticRegression(solver='lbfgs', multi_class='multinomial', random_state=42)\n",
    "pipeline = Pipeline([('kbest', SelectKBest(f_classif)), ('lr', lr)])\n",
    "parameters = {\n",
    "    'kbest__k': np.asarray(range(1, X_s.shape[1] + 1)),\n",
    "    'lr__max_iter': [10, 100, 1000, 2000, 5000, 10000]\n",
    "}\n",
    "clf = GridSearchCV(pipeline, parameters, cv=3, iid=False, scoring=\"f1\")\n",
    "clf.fit(X_train, y_train)\n",
    "print(clf.best_params_)"
   ]
  },
  {
   "cell_type": "code",
   "execution_count": 32,
   "metadata": {},
   "outputs": [
    {
     "name": "stdout",
     "output_type": "stream",
     "text": [
      "f-score: 0.8078 (+/- 0.0258) [Não normalizado]\n",
      "f-score: 0.8711 (+/- 0.0180) [Normalizado]\n"
     ]
    }
   ],
   "source": [
    "clf = Pipeline([('kbest', SelectKBest(f_classif, k=5)), ('clf', LogisticRegression(solver='lbfgs', multi_class='multinomial', max_iter=10, random_state=42))])\n",
    "scores = cross_val_score(clf, X, y, cv=5, scoring=\"f1\")\n",
    "print(\"f-score: %0.4f (+/- %0.4f) [Não normalizado]\" % (scores.mean(), scores.std()))\n",
    "\n",
    "clf = Pipeline([('scaler', StandardScaler()), ('kbest', SelectKBest(f_classif, k=5)), ('clf', LogisticRegression(solver='lbfgs', multi_class='multinomial', max_iter=10, random_state=42))])\n",
    "scores = cross_val_score(clf, X, y, cv=5, scoring=\"f1\")\n",
    "print(\"f-score: %0.4f (+/- %0.4f) [Normalizado]\" % (scores.mean(), scores.std()))"
   ]
  },
  {
   "cell_type": "markdown",
   "metadata": {},
   "source": [
    "##### GridSearchCV + LogisticRegression + PCA"
   ]
  },
  {
   "cell_type": "code",
   "execution_count": 33,
   "metadata": {},
   "outputs": [
    {
     "name": "stdout",
     "output_type": "stream",
     "text": [
      "{'lr__max_iter': 10, 'pca__n_components': 8}\n"
     ]
    }
   ],
   "source": [
    "X_train, X_test, y_train, y_test = train_test_split(X_s, y, test_size=0.33, random_state=42, stratify=y)\n",
    "lr = LogisticRegression(solver='lbfgs', multi_class='multinomial', random_state=42)\n",
    "pipeline = Pipeline([('pca', PCA(whiten=True)), ('lr', lr)])\n",
    "parameters = {\n",
    "    'pca__n_components': np.asarray(range(1, X_s.shape[1] + 1)),\n",
    "    'lr__max_iter': [10, 100, 1000, 2000, 5000, 10000]\n",
    "}\n",
    "clf = GridSearchCV(pipeline, parameters, cv=3, iid=False, scoring=\"f1\")\n",
    "clf.fit(X_train, y_train)\n",
    "print(clf.best_params_)"
   ]
  },
  {
   "cell_type": "code",
   "execution_count": 35,
   "metadata": {},
   "outputs": [
    {
     "name": "stdout",
     "output_type": "stream",
     "text": [
      "f-score: 0.8757 (+/- 0.0153) [Não normalizado]\n",
      "f-score: 0.8757 (+/- 0.0153) [Normalizado]\n"
     ]
    }
   ],
   "source": [
    "clf = Pipeline([('pca', PCA(n_components=8, whiten=True)), ('clf', LogisticRegression(solver='lbfgs', multi_class='multinomial', max_iter=10, random_state=42))])\n",
    "scores = cross_val_score(clf, X, y, cv=5, scoring=\"f1\")\n",
    "print(\"f-score: %0.4f (+/- %0.4f) [Não normalizado]\" % (scores.mean(), scores.std()))\n",
    "\n",
    "clf = Pipeline([('scaler', StandardScaler()), ('pca', PCA(n_components=8, whiten=True)), ('clf', LogisticRegression(solver='lbfgs', multi_class='multinomial', max_iter=10, random_state=42))])\n",
    "scores = cross_val_score(clf, X, y, cv=5, scoring=\"f1\")\n",
    "print(\"f-score: %0.4f (+/- %0.4f) [Normalizado]\" % (scores.mean(), scores.std()))"
   ]
  },
  {
   "cell_type": "markdown",
   "metadata": {},
   "source": [
    "##### GridSearchCV + GaussianNB + KBest"
   ]
  },
  {
   "cell_type": "code",
   "execution_count": 37,
   "metadata": {},
   "outputs": [
    {
     "name": "stdout",
     "output_type": "stream",
     "text": [
      "{'kbest__k': 1}\n"
     ]
    }
   ],
   "source": [
    "X_train, X_test, y_train, y_test = train_test_split(X_s, y, test_size=0.33, random_state=42, stratify=y)\n",
    "\n",
    "pipeline = Pipeline([('kbest', SelectKBest(f_classif)), ('gnb', GaussianNB())])\n",
    "parameters = {\n",
    "    'kbest__k': np.asarray(range(1, X_s.shape[1] + 1))\n",
    "}\n",
    "clf = GridSearchCV(pipeline, parameters, cv=3, iid=False, scoring=\"f1\")\n",
    "clf.fit(X_train, y_train)\n",
    "print(clf.best_params_)"
   ]
  },
  {
   "cell_type": "code",
   "execution_count": 38,
   "metadata": {},
   "outputs": [
    {
     "name": "stdout",
     "output_type": "stream",
     "text": [
      "f-score: 0.8538 (+/- 0.0121) [Não normalizado]\n",
      "f-score: 0.8538 (+/- 0.0121) [Normalizado]\n"
     ]
    }
   ],
   "source": [
    "clf = Pipeline([('kbest', SelectKBest(f_classif, k=1)), ('clf', GaussianNB())])\n",
    "scores = cross_val_score(clf, X, y, cv=5, scoring=\"f1\")\n",
    "print(\"f-score: %0.4f (+/- %0.4f) [Não normalizado]\" % (scores.mean(), scores.std()))\n",
    "\n",
    "clf = Pipeline([('scaler', StandardScaler()), ('kbest', SelectKBest(f_classif, k=1)), ('clf', GaussianNB())])\n",
    "scores = cross_val_score(clf, X, y, cv=5, scoring=\"f1\")\n",
    "print(\"f-score: %0.4f (+/- %0.4f) [Normalizado]\" % (scores.mean(), scores.std()))"
   ]
  },
  {
   "cell_type": "markdown",
   "metadata": {},
   "source": [
    "##### GridSearchCV + GaussianNB + PCA"
   ]
  },
  {
   "cell_type": "code",
   "execution_count": 54,
   "metadata": {},
   "outputs": [
    {
     "name": "stdout",
     "output_type": "stream",
     "text": [
      "{'pca__n_components': 1}\n"
     ]
    }
   ],
   "source": [
    "X_train, X_test, y_train, y_test = train_test_split(X_s, y, test_size=0.33, random_state=42, stratify=y)\n",
    "pipeline = Pipeline([('pca', PCA(whiten=True)), ('gnb', GaussianNB())])\n",
    "parameters = {\n",
    "    'pca__n_components': np.asarray(range(1, X_s.shape[1] + 1)),\n",
    "}\n",
    "clf = GridSearchCV(pipeline, parameters, cv=3, iid=False, scoring=\"f1\")\n",
    "clf.fit(X_train, y_train)\n",
    "print(clf.best_params_)"
   ]
  },
  {
   "cell_type": "code",
   "execution_count": 42,
   "metadata": {},
   "outputs": [
    {
     "name": "stdout",
     "output_type": "stream",
     "text": [
      "f-score: 0.0000 (+/- 0.0000) [Não normalizado]\n",
      "f-score: 0.7448 (+/- 0.0409) [Normalizado]\n"
     ]
    }
   ],
   "source": [
    "clf = Pipeline([('pca', PCA(n_components=1, whiten=True)), ('clf', GaussianNB())])\n",
    "scores = cross_val_score(clf, X, y, cv=5, scoring=\"f1\")\n",
    "print(\"f-score: %0.4f (+/- %0.4f) [Não normalizado]\" % (scores.mean(), scores.std()))\n",
    "\n",
    "clf = Pipeline([('scaler', StandardScaler()), ('pca', PCA(n_components=1, whiten=True)), ('clf', GaussianNB())])\n",
    "scores = cross_val_score(clf, X, y, cv=5, scoring=\"f1\")\n",
    "print(\"f-score: %0.4f (+/- %0.4f) [Normalizado]\" % (scores.mean(), scores.std()))"
   ]
  },
  {
   "cell_type": "markdown",
   "metadata": {},
   "source": [
    "##### GridSearchCV + RandomForestClassifier + KBest"
   ]
  },
  {
   "cell_type": "code",
   "execution_count": 44,
   "metadata": {},
   "outputs": [
    {
     "name": "stdout",
     "output_type": "stream",
     "text": [
      "{'kbest__k': 8, 'rf__n_estimators': 90}\n"
     ]
    }
   ],
   "source": [
    "X_train, X_test, y_train, y_test = train_test_split(X_s, y, test_size=0.33, random_state=42, stratify=y)\n",
    "\n",
    "pipeline = Pipeline([('kbest', SelectKBest(f_classif)), ('rf', RandomForestClassifier(random_state=42))])\n",
    "parameters = {\n",
    "    'kbest__k': np.asarray(range(1, X_s.shape[1] + 1)),\n",
    "    \"rf__n_estimators\": np.arange(10, 101, 10)\n",
    "}\n",
    "clf = GridSearchCV(pipeline, parameters, cv=3, iid=False, scoring=\"f1\")\n",
    "clf.fit(X_train, y_train)\n",
    "print(clf.best_params_)"
   ]
  },
  {
   "cell_type": "code",
   "execution_count": 46,
   "metadata": {},
   "outputs": [
    {
     "name": "stdout",
     "output_type": "stream",
     "text": [
      "f-score: 0.8761 (+/- 0.0152) [Não normalizado]\n",
      "f-score: 0.8761 (+/- 0.0152) [Normalizado]\n"
     ]
    }
   ],
   "source": [
    "clf = Pipeline([('kbest', SelectKBest(f_classif, k=8)), ('clf', RandomForestClassifier(random_state=42, n_estimators=90))])\n",
    "scores = cross_val_score(clf, X, y, cv=5, scoring=\"f1\")\n",
    "print(\"f-score: %0.4f (+/- %0.4f) [Não normalizado]\" % (scores.mean(), scores.std()))\n",
    "\n",
    "clf = Pipeline([('scaler', StandardScaler()), ('kbest', SelectKBest(f_classif, k=8)), ('clf', RandomForestClassifier(random_state=42, n_estimators=90))])\n",
    "scores = cross_val_score(clf, X, y, cv=5, scoring=\"f1\")\n",
    "print(\"f-score: %0.4f (+/- %0.4f) [Normalizado]\" % (scores.mean(), scores.std()))"
   ]
  },
  {
   "cell_type": "markdown",
   "metadata": {},
   "source": [
    "##### GridSearchCV + RandomForestClassifier + PCA"
   ]
  },
  {
   "cell_type": "code",
   "execution_count": 47,
   "metadata": {},
   "outputs": [
    {
     "name": "stdout",
     "output_type": "stream",
     "text": [
      "{'pca__n_components': 7, 'rf__n_estimators': 60}\n"
     ]
    }
   ],
   "source": [
    "X_train, X_test, y_train, y_test = train_test_split(X_s, y, test_size=0.33, random_state=42, stratify=y)\n",
    "\n",
    "pipeline = Pipeline([('pca', PCA(whiten=True)), ('rf', RandomForestClassifier(random_state=42))])\n",
    "parameters = {\n",
    "    'pca__n_components': np.asarray(range(1, X_s.shape[1] + 1)),\n",
    "    \"rf__n_estimators\": np.arange(10, 101, 10)\n",
    "}\n",
    "clf = GridSearchCV(pipeline, parameters, cv=3, iid=False, scoring=\"f1\")\n",
    "clf.fit(X_train, y_train)\n",
    "print(clf.best_params_)"
   ]
  },
  {
   "cell_type": "code",
   "execution_count": 53,
   "metadata": {},
   "outputs": [
    {
     "name": "stdout",
     "output_type": "stream",
     "text": [
      "f-score: 0.8629 (+/- 0.0166) [Não normalizado]\n",
      "f-score: 0.8792 (+/- 0.0150) [Normalizado]\n"
     ]
    }
   ],
   "source": [
    "clf = Pipeline([('pca', PCA(n_components=7, whiten=True)), ('clf', RandomForestClassifier(n_estimators=60, random_state=42))])\n",
    "scores = cross_val_score(clf, X, y, cv=5, scoring=\"f1\")\n",
    "print(\"f-score: %0.4f (+/- %0.4f) [Não normalizado]\" % (scores.mean(), scores.std()))\n",
    "\n",
    "clf = Pipeline([('scaler', StandardScaler()), ('pca', PCA(n_components=7, whiten=True)), ('clf', RandomForestClassifier(n_estimators=60, random_state=42))])\n",
    "scores = cross_val_score(clf, X, y, cv=5, scoring=\"f1\")\n",
    "print(\"f-score: %0.4f (+/- %0.4f) [Normalizado]\" % (scores.mean(), scores.std()))"
   ]
  },
  {
   "cell_type": "markdown",
   "metadata": {},
   "source": [
    "##### GridSearchCV + ExtraTreesClassifier + KBest"
   ]
  },
  {
   "cell_type": "code",
   "execution_count": 22,
   "metadata": {},
   "outputs": [
    {
     "name": "stdout",
     "output_type": "stream",
     "text": [
      "{'ex__min_samples_split': 3, 'ex__n_estimators': 40, 'kbest__k': 4}\n"
     ]
    }
   ],
   "source": [
    "X_train, X_test, y_train, y_test = train_test_split(X_s, y, test_size=0.33, random_state=42, stratify=y)\n",
    "ex = ExtraTreesClassifier(max_depth=None, random_state=42)\n",
    "\n",
    "pipeline = Pipeline([('kbest', SelectKBest(f_classif)), ('ex', ex)])\n",
    "parameters = {\n",
    "    'kbest__k': np.asarray(range(1, X_s.shape[1] + 1)),\n",
    "    \"ex__n_estimators\": np.arange(10, 101, 10),\n",
    "    \"ex__min_samples_split\": np.asarray([2,3,5,10])\n",
    "}\n",
    "clf = GridSearchCV(pipeline, parameters, cv=3, iid=False, scoring=\"f1\")\n",
    "clf.fit(X_train, y_train)\n",
    "print(clf.best_params_)"
   ]
  },
  {
   "cell_type": "code",
   "execution_count": 55,
   "metadata": {},
   "outputs": [
    {
     "name": "stdout",
     "output_type": "stream",
     "text": [
      "f-score: 0.8751 (+/- 0.0088) [Não normalizado]\n",
      "f-score: 0.8751 (+/- 0.0088) [Normalizado]\n"
     ]
    }
   ],
   "source": [
    "clf = Pipeline([('kbest', SelectKBest(f_classif, k=4)), ('clf', ExtraTreesClassifier(n_estimators=40, min_samples_split=3, max_depth=None, random_state=42))])\n",
    "scores = cross_val_score(clf, X, y, cv=5, scoring=\"f1\")\n",
    "print(\"f-score: %0.4f (+/- %0.4f) [Não normalizado]\" % (scores.mean(), scores.std()))\n",
    "\n",
    "clf = Pipeline([('scaler', StandardScaler()), ('kbest', SelectKBest(f_classif, k=4)), ('clf', ExtraTreesClassifier(n_estimators=40, min_samples_split=3, max_depth=None, random_state=42))])\n",
    "scores = cross_val_score(clf, X, y, cv=5, scoring=\"f1\")\n",
    "print(\"f-score: %0.4f (+/- %0.4f) [Normalizado]\" % (scores.mean(), scores.std()))"
   ]
  },
  {
   "cell_type": "markdown",
   "metadata": {},
   "source": [
    "##### GridSearchCV + ExtraTreesClassifier + PCA"
   ]
  },
  {
   "cell_type": "code",
   "execution_count": 54,
   "metadata": {},
   "outputs": [
    {
     "name": "stdout",
     "output_type": "stream",
     "text": [
      "{'ex__min_samples_split': 2, 'ex__n_estimators': 100, 'pca__n_components': 8}\n"
     ]
    }
   ],
   "source": [
    "X_train, X_test, y_train, y_test = train_test_split(X_s, y, test_size=0.33, random_state=42, stratify=y)\n",
    "ex = ExtraTreesClassifier(max_depth=None, random_state=42)\n",
    "\n",
    "pipeline = Pipeline([('pca', PCA()), ('ex', ex)])\n",
    "parameters = {\n",
    "    'pca__n_components': np.asarray(range(1, X_s.shape[1] + 1)),\n",
    "    \"ex__n_estimators\": np.arange(10, 101, 10),\n",
    "    \"ex__min_samples_split\": np.asarray([2,3,5,10])\n",
    "}\n",
    "clf = GridSearchCV(pipeline, parameters, cv=3, iid=False, scoring=\"f1\")\n",
    "clf.fit(X_train, y_train)\n",
    "print(clf.best_params_)"
   ]
  },
  {
   "cell_type": "code",
   "execution_count": 57,
   "metadata": {},
   "outputs": [
    {
     "name": "stdout",
     "output_type": "stream",
     "text": [
      "f-score: 0.8809 (+/- 0.0186) [Não normalizado]\n",
      "f-score: 0.8810 (+/- 0.0198) [Normalizado]\n"
     ]
    }
   ],
   "source": [
    "clf = Pipeline([('pca', PCA(n_components=8, whiten=True)), ('clf', ExtraTreesClassifier(n_estimators=100, min_samples_split=2, max_depth=None, random_state=42))])\n",
    "scores = cross_val_score(clf, X, y, cv=5, scoring=\"f1\")\n",
    "print(\"f-score: %0.4f (+/- %0.4f) [Não normalizado]\" % (scores.mean(), scores.std()))\n",
    "\n",
    "clf = Pipeline([('scaler', StandardScaler()), ('pca', PCA(n_components=8, whiten=True)), ('clf', ExtraTreesClassifier(n_estimators=100, min_samples_split=2, max_depth=None, random_state=42))])\n",
    "scores = cross_val_score(clf, X, y, cv=5, scoring=\"f1\")\n",
    "print(\"f-score: %0.4f (+/- %0.4f) [Normalizado]\" % (scores.mean(), scores.std()))"
   ]
  },
  {
   "cell_type": "markdown",
   "metadata": {},
   "source": [
    "##### GridSearchCV + DecisionTreeClassifier + KBest"
   ]
  },
  {
   "cell_type": "code",
   "execution_count": 60,
   "metadata": {},
   "outputs": [
    {
     "name": "stdout",
     "output_type": "stream",
     "text": [
      "{'dt__min_samples_split': 5000, 'kbest__k': 1}\n"
     ]
    }
   ],
   "source": [
    "X_train, X_test, y_train, y_test = train_test_split(X_s, y, test_size=0.33, random_state=42, stratify=y)\n",
    "dt = DecisionTreeClassifier(max_depth=None, random_state=42)\n",
    "\n",
    "pipeline = Pipeline([('kbest', SelectKBest(f_classif)), ('dt', dt)])\n",
    "parameters = {\n",
    "    'kbest__k': np.asarray(range(1, X_s.shape[1] + 1)),\n",
    "    \"dt__min_samples_split\": np.asarray([10,50,100, 1000, 5000, 10000])\n",
    "}\n",
    "clf = GridSearchCV(pipeline, parameters, cv=3, iid=False, scoring=\"f1\")\n",
    "clf.fit(X_train, y_train)\n",
    "print(clf.best_params_)"
   ]
  },
  {
   "cell_type": "code",
   "execution_count": 61,
   "metadata": {},
   "outputs": [
    {
     "name": "stdout",
     "output_type": "stream",
     "text": [
      "f-score: 0.8667 (+/- 0.0134) [Não normalizado]\n",
      "f-score: 0.8667 (+/- 0.0134) [Normalizado]\n"
     ]
    }
   ],
   "source": [
    "clf = Pipeline([('kbest', SelectKBest(f_classif, k=4)), ('clf', DecisionTreeClassifier(min_samples_split=5000, max_depth=None, random_state=42))])\n",
    "scores = cross_val_score(clf, X, y, cv=5, scoring=\"f1\")\n",
    "print(\"f-score: %0.4f (+/- %0.4f) [Não normalizado]\" % (scores.mean(), scores.std()))\n",
    "\n",
    "clf = Pipeline([('scaler', StandardScaler()), ('kbest', SelectKBest(f_classif, k=4)), ('clf', DecisionTreeClassifier(min_samples_split=5000, max_depth=None, random_state=42))])\n",
    "scores = cross_val_score(clf, X, y, cv=5, scoring=\"f1\")\n",
    "print(\"f-score: %0.4f (+/- %0.4f) [Normalizado]\" % (scores.mean(), scores.std()))"
   ]
  },
  {
   "cell_type": "markdown",
   "metadata": {},
   "source": [
    "##### GridSearchCV + DecisionTreeClassifier + PCA"
   ]
  },
  {
   "cell_type": "code",
   "execution_count": 62,
   "metadata": {},
   "outputs": [
    {
     "name": "stdout",
     "output_type": "stream",
     "text": [
      "{'dt__min_samples_split': 100, 'pca__n_components': 8}\n"
     ]
    }
   ],
   "source": [
    "X_train, X_test, y_train, y_test = train_test_split(X_s, y, test_size=0.33, random_state=42, stratify=y)\n",
    "dt = DecisionTreeClassifier(max_depth=None, random_state=42)\n",
    "\n",
    "pipeline = Pipeline([('pca', PCA()), ('dt', dt)])\n",
    "parameters = {\n",
    "    'pca__n_components': np.asarray(range(1, X_s.shape[1] + 1)),\n",
    "    \"dt__min_samples_split\": np.asarray([10,50,100, 1000, 5000, 10000])\n",
    "}\n",
    "clf = GridSearchCV(pipeline, parameters, cv=3, iid=False, scoring=\"f1\")\n",
    "clf.fit(X_train, y_train)\n",
    "print(clf.best_params_)"
   ]
  },
  {
   "cell_type": "code",
   "execution_count": 64,
   "metadata": {},
   "outputs": [
    {
     "name": "stdout",
     "output_type": "stream",
     "text": [
      "f-score: 0.8425 (+/- 0.0202) [Não normalizado]\n",
      "f-score: 0.8436 (+/- 0.0026) [Normalizado]\n"
     ]
    }
   ],
   "source": [
    "clf = Pipeline([('pca', PCA(n_components=8, whiten=True)), ('clf', DecisionTreeClassifier(min_samples_split=100, max_depth=None, random_state=42))])\n",
    "scores = cross_val_score(clf, X, y, cv=5, scoring=\"f1\")\n",
    "print(\"f-score: %0.4f (+/- %0.4f) [Não normalizado]\" % (scores.mean(), scores.std()))\n",
    "\n",
    "clf = Pipeline([('scaler', StandardScaler()), ('pca', PCA(n_components=8, whiten=True)), ('clf', DecisionTreeClassifier(min_samples_split=100, max_depth=None, random_state=42))])\n",
    "scores = cross_val_score(clf, X, y, cv=5, scoring=\"f1\")\n",
    "print(\"f-score: %0.4f (+/- %0.4f) [Normalizado]\" % (scores.mean(), scores.std()))"
   ]
  },
  {
   "cell_type": "markdown",
   "metadata": {},
   "source": [
    "##### GridSearchCV + Ensemble + PCA"
   ]
  },
  {
   "cell_type": "code",
   "execution_count": 18,
   "metadata": {},
   "outputs": [
    {
     "name": "stdout",
     "output_type": "stream",
     "text": [
      "f-score: 0.8807 (+/- 0.0165)\n"
     ]
    }
   ],
   "source": [
    "from sklearn.ensemble import VotingClassifier\n",
    "\n",
    "clf = VotingClassifier(estimators=[('et', Pipeline([('scaler', StandardScaler()), ('pca', PCA(n_components=8, whiten=True)), ('clf', ExtraTreesClassifier(n_estimators=100, min_samples_split=2, max_depth=None, random_state=42))])), \n",
    "                                    ('rf', Pipeline([('scaler', StandardScaler()), ('pca', PCA(n_components=7, whiten=True)), ('clf', RandomForestClassifier(n_estimators=60, random_state=42))])),\n",
    "                                    ('knn', Pipeline([('scaler', StandardScaler()), ('pca', PCA(n_components=8, whiten=True)), ('clf', KNeighborsClassifier(n_neighbors=5, weights=\"distance\"))]))], \n",
    "                                    voting='hard')\n",
    "\n",
    "scores = cross_val_score(clf, X, y, cv=5, scoring=\"f1\")\n",
    "print(\"f-score: %0.4f (+/- %0.4f)\" % (scores.mean(), scores.std()))"
   ]
  },
  {
   "cell_type": "markdown",
   "metadata": {},
   "source": [
    "# Conclusão"
   ]
  },
  {
   "cell_type": "markdown",
   "metadata": {},
   "source": [
    "Notamos que, através dos algorítmos utilizados, o ExtraTrees foi o que apresentou melhor desempenho. Entretanto, devido ao custo computacional, provou-se mais relevante utilizar em ambiente de produção o algorítmo RandomForest, devido ao menor tempo de execução.\n",
    "\n",
    "Em quase todos os testes, a utilização do PCA trouxe desempenho superior ao entregue pelo SelectKBest. Isso se deu provavelmente pelos atributos utilizados, que compõe basicamente de médias e métricas estatísticas.\n",
    "\n",
    "Visualmente a distribuição dos dados normalizados foi mais homogênea, sugerindo que o desempenho seria melhor utilizando essa técnica. Isso se provou nos testes, com os resultados utilizando dados não normalizados entregando desempenho inferior.\n",
    "\n",
    "A utilização do comitê de máquinas tambpem foi satisfatória, porém o tempo foi o fator decisivo, já que os resultados não foram significativamente superiores.\n"
   ]
  }
 ],
 "metadata": {
  "kernelspec": {
   "display_name": "Python 3",
   "language": "python",
   "name": "python3"
  },
  "language_info": {
   "codemirror_mode": {
    "name": "ipython",
    "version": 3
   },
   "file_extension": ".py",
   "mimetype": "text/x-python",
   "name": "python",
   "nbconvert_exporter": "python",
   "pygments_lexer": "ipython3",
   "version": "3.7.3"
  }
 },
 "nbformat": 4,
 "nbformat_minor": 2
}
